{
 "cells": [
  {
   "cell_type": "code",
   "execution_count": 1,
   "id": "0326e0ca-1a44-44e1-b652-48ccab0b0a92",
   "metadata": {},
   "outputs": [
    {
     "name": "stdout",
     "output_type": "stream",
     "text": [
      "Requirement already satisfied: opencv-python in c:\\users\\john\\anaconda3\\lib\\site-packages (4.5.5.64)\n",
      "Requirement already satisfied: numpy>=1.17.3 in c:\\users\\john\\anaconda3\\lib\\site-packages (from opencv-python) (1.20.3)\n"
     ]
    }
   ],
   "source": [
    "import sys\n",
    "!{sys.executable} -m pip install opencv-python"
   ]
  },
  {
   "cell_type": "code",
   "execution_count": null,
   "id": "4ba67eeb-ad80-4bfb-a1f4-87646ea944bb",
   "metadata": {},
   "outputs": [],
   "source": [
    "import cv2  \n",
    "  \n",
    "# Load the cascade  \n",
    "face_cascade = cv2.CascadeClassifier('haarcascade_frontalface_default.xml')  \n",
    "  \n",
    "# To capture video from webcam.   \n",
    "cap = cv2.VideoCapture(0)\n",
    "\n",
    "while True:  \n",
    "    # Read the frame  \n",
    "    _, img = cap.read()  \n",
    "  \n",
    "    # Convert to grayscale  \n",
    "    gray = cv2.cvtColor(img, cv2.COLOR_BGR2GRAY)  \n",
    "  \n",
    "    # Detect the faces  \n",
    "    faces = face_cascade.detectMultiScale(gray, 1.1, 4)  \n",
    "  \n",
    "    # Draw the rectangle around each face  \n",
    "    for (x, y, w, h) in faces:  \n",
    "         cv2.rectangle(img, (x, y), (x+w, y+h), (117, 216, 230), 2)  \n",
    "  \n",
    "    # Display  \n",
    "    cv2.imshow('Video', img)  \n",
    "  \n",
    "    # Stop if escape key is pressed  \n",
    "    k = cv2.waitKey(30) & 0xff  \n",
    "    if k==27:  \n",
    "        break  \n",
    "          \n",
    "# Release the VideoCapture object  \n",
    "cap.release()"
   ]
  },
  {
   "cell_type": "code",
   "execution_count": null,
   "id": "af35bdce-d115-4d17-96c8-ba8e6901259a",
   "metadata": {},
   "outputs": [],
   "source": []
  },
  {
   "cell_type": "code",
   "execution_count": null,
   "id": "46cd3108-5fed-4da3-b9a9-3e00236ded1c",
   "metadata": {},
   "outputs": [],
   "source": []
  }
 ],
 "metadata": {
  "kernelspec": {
   "display_name": "Python 3 (ipykernel)",
   "language": "python",
   "name": "python3"
  },
  "language_info": {
   "codemirror_mode": {
    "name": "ipython",
    "version": 3
   },
   "file_extension": ".py",
   "mimetype": "text/x-python",
   "name": "python",
   "nbconvert_exporter": "python",
   "pygments_lexer": "ipython3",
   "version": "3.9.12"
  }
 },
 "nbformat": 4,
 "nbformat_minor": 5
}
